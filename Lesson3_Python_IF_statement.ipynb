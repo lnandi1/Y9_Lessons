{
  "nbformat": 4,
  "nbformat_minor": 0,
  "metadata": {
    "colab": {
      "name": "Lesson3_Python_IF_statement.ipynb",
      "provenance": [],
      "collapsed_sections": [
        "_qNJLyEJ3PB5",
        "hvkbhdteZYkj",
        "jx1F9eg8aTH9",
        "I5kADIA0ZiIw",
        "yuR4TM6JIUA4",
        "cjWhcS37Z5B0",
        "D1s1X1CGJpHH",
        "ieEqwZt4Jgyd",
        "6Oc2-yQoJ_wA",
        "9jSYymAfJ3Jo",
        "4DoJQqiENN7W",
        "ocngL_fDc6t-",
        "NGH991CgJfp-",
        "PE2TNlSddu1q",
        "zAA7-bMmRFX0",
        "hkoU8YFAhOQN",
        "y_u-XldJcbe7"
      ]
    },
    "kernelspec": {
      "name": "python3",
      "display_name": "Python 3"
    },
    "language_info": {
      "name": "python"
    }
  },
  "cells": [
    {
      "cell_type": "markdown",
      "metadata": {
        "id": "_qNJLyEJ3PB5"
      },
      "source": [
        "## **Lesson 3 - Introduction - the IF statement**\n",
        "\n",
        "\n",
        "<br><b>We will look at Python Programs involving the IF statement\n",
        "\n",
        "\n",
        "1.   The IF statement is a form of SELECTION\n",
        "2.   SELECTION is known as a form of PROGRAMMIMG CONSTRUCT\n",
        "3.  Just for the sake of completeness, we will mention here that there are 3 forms of PROGRAMMING CONSTRUCTS.these are known as SEQUENCE, ITERATION and SELECTION\n",
        "4.  We will look at ITERATION and SEQUENCE later\n",
        "5. Here we look at the IF statement in its Primary Form and the NESTED IF statement.\n",
        "\n",
        "\n",
        "<br>When looking at programs involving the IF statement, we shall come across Relational Operators. The common ones are:-\n",
        "\n",
        "\n",
        "1.   Less than (<)\n",
        "2.   Less than or Equal to (<=)\n",
        "3.   Greater than (>)\n",
        "4.   Greater than or Equal to (>=)\n",
        "5.   Equality Operator which means is it equal to (==) \n",
        "6.   Not equal to (!= OR <>)\n",
        "\n",
        "<br><b> We also look at the difference between the  equality operator which is a double equal sign '==' and not a single equal sign '='</b>\n",
        "\n",
        "\n",
        "\n",
        "\n",
        "\n",
        "\n"
      ]
    },
    {
      "cell_type": "markdown",
      "source": [
        "## **L3 - Example 1 - Study the Program below and its Output**"
      ],
      "metadata": {
        "id": "hvkbhdteZYkj"
      }
    },
    {
      "cell_type": "code",
      "metadata": {
        "id": "cynqFjOR85SA",
        "colab": {
          "base_uri": "https://localhost:8080/"
        },
        "outputId": "153a08a8-0b58-400e-d5e2-68c7b4e3f2b4"
      },
      "source": [
        "# Example 1\n",
        "Month = input(\"Enter a Month \")\n",
        "if Month == \"January\":\n",
        "  print(\"Happy New Year!!\")\n"
      ],
      "execution_count": null,
      "outputs": [
        {
          "output_type": "stream",
          "name": "stdout",
          "text": [
            "Enter a Month January\n",
            "Happy New Year!!\n"
          ]
        }
      ]
    },
    {
      "cell_type": "markdown",
      "metadata": {
        "id": "HR4aG5TQ9VKX"
      },
      "source": [
        "**Note that the above program has a single equal sign in Line 1<br>\n",
        "and a double equal sign in Line 2<br>\n",
        "So, what is the difference between a single equal sign and a double equal sign ?<br><br>\n",
        "In Month = \"January\", we are assigning the value December to the variable Month<br><br>\n",
        "In Month == \"December, we are asking the question is Month equal to January?<br>**\n",
        "\n"
      ]
    },
    {
      "cell_type": "markdown",
      "source": [
        "## **L3- Question 1 - Type in the above program and run it**"
      ],
      "metadata": {
        "id": "jx1F9eg8aTH9"
      }
    },
    {
      "cell_type": "code",
      "source": [
        "# Insert Code Here"
      ],
      "metadata": {
        "id": "ZtomhyPHablF"
      },
      "execution_count": null,
      "outputs": []
    },
    {
      "cell_type": "markdown",
      "source": [
        "## **L3 - Example 2 - Run the Program below & then Study it and the  Output**"
      ],
      "metadata": {
        "id": "I5kADIA0ZiIw"
      }
    },
    {
      "cell_type": "code",
      "metadata": {
        "id": "8pPPUAthIuGQ"
      },
      "source": [
        "# Example 2\n",
        "Month = input(\"Enter a Month \")\n",
        "if Month == \"October\":\n",
        "  print(\"It is the Month of Halloween\")\n",
        "else:\n",
        "  print(\"It is not the Month of Halloween\")"
      ],
      "execution_count": null,
      "outputs": []
    },
    {
      "cell_type": "markdown",
      "metadata": {
        "id": "yuR4TM6JIUA4"
      },
      "source": [
        "## **L3 - Question 2 - Now answer the following question:-**\n",
        "<br><i> Write a Program which asks the user to enter the name of a month. If they enter 'January', the message 'Happy New Year is displayed. If the month is not January then the message 'Not New Year Yet!' is displayed'</i>"
      ]
    },
    {
      "cell_type": "code",
      "metadata": {
        "id": "M3KVTojeD9Qq"
      },
      "source": [
        "# Insert Code Here"
      ],
      "execution_count": null,
      "outputs": []
    },
    {
      "cell_type": "markdown",
      "source": [
        "## **L3 - Example 3 - Run the Program below & then Study it and the Output**"
      ],
      "metadata": {
        "id": "cjWhcS37Z5B0"
      }
    },
    {
      "cell_type": "code",
      "metadata": {
        "id": "o6pS-6g73_pj"
      },
      "source": [
        "# Example 3\n",
        "# The IF statement\n",
        "# This IF statement has 3 branches\n",
        "age = int(input(\"Enter Age \"))\n",
        "if age == 18:                                       # Asking is 18 equal to 18?\n",
        "  print(\"You are just old enough to vote \")\n",
        "elif age > 18:                                       # Asking if age is greater than 18\n",
        "  print(\"You are old enough to vote \")\n",
        "else:\n",
        "  print(\"You are too young to vote\")"
      ],
      "execution_count": null,
      "outputs": []
    },
    {
      "cell_type": "markdown",
      "metadata": {
        "id": "D1s1X1CGJpHH"
      },
      "source": [
        "## **L3 - Question 3 - Now answer the following question:-** \n",
        "<br><i>Write a program that: Asks the user how long on average they spend watching TV each day</i>\n",
        "\n",
        "\n",
        "*  'If it is less than 2 hours, outputs ‘That shouldn’t rot your brain too much’\n",
        "* 'If it is less than 4 hours per day, outputs ‘Aren’t you getting square eyes?**\n",
        "* 'Otherwise outputs ‘Fresh air beats channel flicking’\n"
      ]
    },
    {
      "cell_type": "code",
      "metadata": {
        "id": "UNj_oG69JsYI"
      },
      "source": [
        "# Insert Code Here"
      ],
      "execution_count": null,
      "outputs": []
    },
    {
      "cell_type": "markdown",
      "metadata": {
        "id": "ieEqwZt4Jgyd"
      },
      "source": [
        "## **L3 - Example 4 - Run the Program below & then Study it  and the Output**"
      ]
    },
    {
      "cell_type": "code",
      "metadata": {
        "id": "XXC8fyL_KMZk"
      },
      "source": [
        "# Example 4\n",
        "shops = int(input(\"How many minutes does it take you to get to the shops? \"))\n",
        "if shops < 60:\n",
        "  print(\"That is a reasonable amount of time \")\n",
        "elif shops < 120:\n",
        "  print(\"Hmmm. Is there a quicker route you can take? \")\n",
        "else:\n",
        "  print(\"It seems to take you forever \")\n"
      ],
      "execution_count": null,
      "outputs": []
    },
    {
      "cell_type": "markdown",
      "metadata": {
        "id": "6Oc2-yQoJ_wA"
      },
      "source": [
        "## **L3 - Question 4 - Now write the following Program**\n",
        "<br><i>Write a program that:\n",
        "converts and outputs marks into grades, using the following data:\n",
        "\n",
        "\n",
        "1. Greater than or equal to 75 to an A\n",
        "\n",
        "2. Greater than or equal to 60 to a B\n",
        "\n",
        "3. Greater than or equal to 35 to a C\n",
        "\n",
        "4. Less than 35 to a D</i>"
      ]
    },
    {
      "cell_type": "code",
      "metadata": {
        "id": "3h8Rfu_jK0e3"
      },
      "source": [
        "# Insert Code Here"
      ],
      "execution_count": null,
      "outputs": []
    },
    {
      "cell_type": "markdown",
      "metadata": {
        "id": "9jSYymAfJ3Jo"
      },
      "source": [
        "## **L3 - Example 5 - Run the Program & then Study it and the Output**"
      ]
    },
    {
      "cell_type": "code",
      "metadata": {
        "id": "XlVdCJstKxcN"
      },
      "source": [
        "# Example 5\n",
        "Flag_Colour = input(\"Enter a colour that is in the British Flag \")\n",
        "if Flag_Colour == \"Red\" or Flag_Colour == \"Blue\" or Flag_Colour == \"White\":\n",
        "  print(\"That is Correct\")\n",
        "else:\n",
        "  print(\"Try again \")"
      ],
      "execution_count": null,
      "outputs": []
    },
    {
      "cell_type": "markdown",
      "metadata": {
        "id": "4DoJQqiENN7W"
      },
      "source": [
        "## **L3 - Question 5 - Now write the following Program**\n",
        "<br><i> Write a program that: asks the user to name one of the Olympic Values (Respect, Excellence and Friendship) and if they correctly name one, output 'That’s correct‘, otherwise output 'Try again'</i>\n",
        "\n",
        "\n"
      ]
    },
    {
      "cell_type": "code",
      "metadata": {
        "id": "GY1YszZeNdR3"
      },
      "source": [
        "# Insert Code Here"
      ],
      "execution_count": null,
      "outputs": []
    },
    {
      "cell_type": "markdown",
      "source": [
        "## **L3 - Example 6 - Run the Program below & then Study it and the Output**"
      ],
      "metadata": {
        "id": "ocngL_fDc6t-"
      }
    },
    {
      "cell_type": "code",
      "metadata": {
        "id": "l4mFBZhlkS43"
      },
      "source": [
        "# Example 6\n",
        "# Is a number is even\n",
        "num = int(input(\"Enter an integer \"))  #Note the use of the 'int' keyword for integer\n",
        "if num % 2 == 0:\n",
        "  print(num, \" is even \")"
      ],
      "execution_count": null,
      "outputs": []
    },
    {
      "cell_type": "markdown",
      "metadata": {
        "id": "NGH991CgJfp-"
      },
      "source": [
        "## **L3 - Question 6 - Now write the following Program** \n",
        "<br><i>Write a Program which invites the user to input a number and reports on whether it is odd or even</i>"
      ]
    },
    {
      "cell_type": "code",
      "metadata": {
        "id": "YNYgHvGoJqq7"
      },
      "source": [
        "# Insert Code Here"
      ],
      "execution_count": null,
      "outputs": []
    },
    {
      "cell_type": "markdown",
      "source": [
        "## **L3 - Example 7 - Run the Program below and Study it and the Output**"
      ],
      "metadata": {
        "id": "PE2TNlSddu1q"
      }
    },
    {
      "cell_type": "code",
      "metadata": {
        "id": "2LWkowJJ4QaS",
        "colab": {
          "base_uri": "https://localhost:8080/"
        },
        "outputId": "77e6c1c9-dbdf-428a-c7c8-bbaa7daff57e"
      },
      "source": [
        "# Example 7 \n",
        "# Generating a random number between 1 and 3\n",
        "import random\n",
        "r = random.randint(1,10)\n",
        "print(r)"
      ],
      "execution_count": null,
      "outputs": [
        {
          "output_type": "stream",
          "name": "stdout",
          "text": [
            "10\n"
          ]
        }
      ]
    },
    {
      "cell_type": "markdown",
      "metadata": {
        "id": "zAA7-bMmRFX0"
      },
      "source": [
        "## **L3 - Question 7 - Now answer the following question**\n",
        "<br><i>Write a game that:\n",
        "Allows the user to play rock, paper, scissors against the computer Must display the computer’s choice and show the result of the game (or if you wish, look at the answer and see that you understand how the code is working)</i>"
      ]
    },
    {
      "cell_type": "code",
      "metadata": {
        "id": "q0iIevUfZU6w"
      },
      "source": [
        "# Insert Code Here"
      ],
      "execution_count": null,
      "outputs": []
    },
    {
      "cell_type": "markdown",
      "source": [
        "## **L3 - Question 7A - An example answer**"
      ],
      "metadata": {
        "id": "hkoU8YFAhOQN"
      }
    },
    {
      "cell_type": "code",
      "metadata": {
        "id": "uHM3n6X2Pjjc"
      },
      "source": [
        "# Question 7A Answer - Rock, Paper, Scissors\n",
        "import random\n",
        "Computer = random.randint(1,3)\n",
        "print(Computer)\n",
        "User = int(input(\"Enter 1 for Rock, 2 for Paper, 3 for Scissors \"))\n",
        "if Computer > User:\n",
        "  print(\"Computer Wins \")\n",
        "elif Computer < User:\n",
        "  print(\"You Win\")\n",
        "else:\n",
        "  print(\"It is a Draw\")"
      ],
      "execution_count": null,
      "outputs": []
    },
    {
      "cell_type": "markdown",
      "metadata": {
        "id": "y_u-XldJcbe7"
      },
      "source": [
        "## **L3 - Question 8 - Studying a Program relating to the Chinese Zodiac**\n",
        " <br><i>This example relates to the Chinese Zodiac.\n",
        "The Chinese Zodiac assigns animals to years in a 12 year cycle.\n",
        "One 12 year cycle is shown below. \n",
        "The pattern repeats from there, with 2012 being another year of the dragon and 1999 being another year of the hare.\n",
        "**<br><br>Run the Program below, study the answer and run it and go through it line by line to see that you understand it. Infact you will probably need to TRACE the program in order to understand how it works and someone/your teacher will need to show you how to TRACE a program**\n",
        "\n",
        "\n",
        "1.   Year &emsp;    Animal\n",
        "2.   2000 &emsp;           Dragon \n",
        "3.   2001  &emsp;          Snake\n",
        "4.   2002  &emsp;          Horse\n",
        "5.   2003  &emsp;          Sheep\n",
        "6.   2004   &emsp;         Monkey\n",
        "7.   2005 &emsp;  Rooster\n",
        "8.   2006 &emsp;  Dog\n",
        "9.   2007 &emsp;Pig\n",
        "10.  2008 &emsp; Rat\n",
        "11.  2009&emsp; Ox\n",
        "12.  2010 &emsp; Tiger\n",
        "13.  2011 &emsp; Hare\n",
        "\n"
      ]
    },
    {
      "cell_type": "code",
      "metadata": {
        "id": "K31zb3-2jjTs"
      },
      "source": [
        "# Question 8\n",
        "# Chinese Zodiac\n",
        "year = int(input(\"Enter a Year \"))\n",
        "\n",
        "if year % 12 == 8:\n",
        "  animal = \"Dragon\"\n",
        "elif year % 12 ==9:\n",
        "  animal = \"Snake\"\n",
        "elif year % 12 == 10:\n",
        "  animal = \"Horse\"\n",
        "elif year % 12 == 11:\n",
        "  animal = \"Sheep\"\n",
        "elif year % 12== 0:\n",
        "  animal = \"Monkey\"\n",
        "elif year % 12==1:\n",
        "  animal = \"Rooster\"\n",
        "elif year % 12==2:\n",
        "  animal = \"Dog\"\n",
        "elif year % 12== 3:\n",
        "  animal = \"Pig\"\n",
        "elif year % 12==4:\n",
        "  animal = \"Rat\"\n",
        "elif year % 12==5:\n",
        "  animal = \"Ox\"\n",
        "elif year % 12==6:\n",
        "  animal = \"Tiger\"\n",
        "elif year % 12==7:\n",
        "  animal = \"Hare\"\n",
        "else:\n",
        "  print(\"Invalid entry\")\n",
        "\n",
        "print(animal)"
      ],
      "execution_count": null,
      "outputs": []
    },
    {
      "cell_type": "markdown",
      "metadata": {
        "id": "yGpkrtPLFsRy"
      },
      "source": [
        "## **L3 - Question 9 - Studying a Program with a NESTED IF statement**\n",
        "<br><i>Now let us look at a Program with a NESTED IF statement.\n",
        "\n",
        "<br><br>Study the Program below with a NESTED IF statement.\n",
        "\n",
        "1.   By looking at the output and going through the program line by line to see that you understand how the program produces the output\n",
        "2.  You may need to TRACE the PROGRAM in order to understand how it works. If you don't how to TRACE, someone will need to show you how it is done."
      ]
    },
    {
      "cell_type": "code",
      "metadata": {
        "id": "zMsLdVBcGM5s"
      },
      "source": [
        "# Question 9\n",
        "# Python program to demonstrate\n",
        "# nested if statement\n",
        "num = int(input(\"Enter a number \"))\n",
        "if num >= 0:\n",
        "    if num == 0:\n",
        "        print(\"Zero\")\n",
        "    else:\n",
        "        print(\"Positive number\")\n",
        "else:\n",
        "    print(\"Negative number\")"
      ],
      "execution_count": null,
      "outputs": []
    },
    {
      "cell_type": "markdown",
      "source": [
        "## **L3- Question 10 - Now recap by reading over each example and question again & then you can take a look at this video containing examples of programs with the IF statement**\n",
        "https://youtu.be/b8MSIriGrnY\n"
      ],
      "metadata": {
        "id": "nHP-lPb1gcNj"
      }
    }
  ]
}